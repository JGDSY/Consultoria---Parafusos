{
 "cells": [
  {
   "cell_type": "code",
   "execution_count": 1,
   "metadata": {},
   "outputs": [],
   "source": [
    "import pandas as pd\n",
    "import numpy as np"
   ]
  },
  {
   "cell_type": "code",
   "execution_count": 2,
   "metadata": {},
   "outputs": [],
   "source": [
    "df = pd.read_csv('dados_vins.csv', index_col=0)"
   ]
  },
  {
   "cell_type": "code",
   "execution_count": 3,
   "metadata": {},
   "outputs": [],
   "source": [
    "df_precos = df.groupby('PN').agg({'Price':'mean'})"
   ]
  },
  {
   "cell_type": "code",
   "execution_count": 4,
   "metadata": {},
   "outputs": [],
   "source": [
    "df_qtd = df.groupby(['phantom', 'PN']).agg({'Qtde':lambda x: list(x)}).reset_index()"
   ]
  },
  {
   "cell_type": "code",
   "execution_count": 5,
   "metadata": {},
   "outputs": [],
   "source": [
    "df_qtd_preco = pd.merge(left=df_qtd, right=df_precos, on='PN', how='left')"
   ]
  },
  {
   "cell_type": "code",
   "execution_count": 6,
   "metadata": {},
   "outputs": [],
   "source": [
    "MULTA = 5000\n",
    "\n",
    "def otimiza(qtde, price):\n",
    "    espaco_busca = np.sort(np.array(qtde))\n",
    "\n",
    "    espaco_probs = np.array([np.sum(espaco_busca > x) for x in espaco_busca]) / espaco_busca.shape[0]  # utiliza a distribuição empírica dos dados para calcular P(Y>X)\n",
    "    espaco_resultado = MULTA*espaco_probs + price*(espaco_busca - np.mean(espaco_busca))*(1-espaco_probs)\n",
    "    \n",
    "    index_x = np.argmin(espaco_resultado)\n",
    "\n",
    "    return {'qtd_min':espaco_busca[0], 'qtd_max':espaco_busca[-1], 'valor_recomendado':espaco_busca[index_x], 'custo_esperado':espaco_resultado[index_x]}"
   ]
  },
  {
   "cell_type": "code",
   "execution_count": 7,
   "metadata": {},
   "outputs": [],
   "source": [
    "resultados = pd.DataFrame(df_qtd_preco.apply(lambda x: otimiza(x['Qtde'], x['Price']), axis=1).to_list())"
   ]
  },
  {
   "cell_type": "code",
   "execution_count": 8,
   "metadata": {},
   "outputs": [],
   "source": [
    "df_recomendacoes = pd.concat([df_qtd_preco, resultados], axis=1)"
   ]
  },
  {
   "cell_type": "code",
   "execution_count": 9,
   "metadata": {},
   "outputs": [
    {
     "data": {
      "text/html": [
       "<div>\n",
       "<style scoped>\n",
       "    .dataframe tbody tr th:only-of-type {\n",
       "        vertical-align: middle;\n",
       "    }\n",
       "\n",
       "    .dataframe tbody tr th {\n",
       "        vertical-align: top;\n",
       "    }\n",
       "\n",
       "    .dataframe thead th {\n",
       "        text-align: right;\n",
       "    }\n",
       "</style>\n",
       "<table border=\"1\" class=\"dataframe\">\n",
       "  <thead>\n",
       "    <tr style=\"text-align: right;\">\n",
       "      <th></th>\n",
       "      <th>phantom</th>\n",
       "      <th>PN</th>\n",
       "      <th>Qtde</th>\n",
       "      <th>Price</th>\n",
       "      <th>qtd_min</th>\n",
       "      <th>qtd_max</th>\n",
       "      <th>valor_recomendado</th>\n",
       "      <th>custo_esperado</th>\n",
       "    </tr>\n",
       "  </thead>\n",
       "  <tbody>\n",
       "  </tbody>\n",
       "</table>\n",
       "</div>"
      ],
      "text/plain": [
       "Empty DataFrame\n",
       "Columns: [phantom, PN, Qtde, Price, qtd_min, qtd_max, valor_recomendado, custo_esperado]\n",
       "Index: []"
      ]
     },
     "execution_count": 9,
     "metadata": {},
     "output_type": "execute_result"
    }
   ],
   "source": [
    "df_recomendacoes.query('valor_recomendado!=qtd_max')"
   ]
  },
  {
   "cell_type": "code",
   "execution_count": 10,
   "metadata": {},
   "outputs": [
    {
     "data": {
      "text/html": [
       "<div>\n",
       "<style scoped>\n",
       "    .dataframe tbody tr th:only-of-type {\n",
       "        vertical-align: middle;\n",
       "    }\n",
       "\n",
       "    .dataframe tbody tr th {\n",
       "        vertical-align: top;\n",
       "    }\n",
       "\n",
       "    .dataframe thead th {\n",
       "        text-align: right;\n",
       "    }\n",
       "</style>\n",
       "<table border=\"1\" class=\"dataframe\">\n",
       "  <thead>\n",
       "    <tr style=\"text-align: right;\">\n",
       "      <th></th>\n",
       "      <th>phantom</th>\n",
       "      <th>PN</th>\n",
       "      <th>Qtde</th>\n",
       "      <th>Price</th>\n",
       "      <th>qtd_min</th>\n",
       "      <th>qtd_max</th>\n",
       "      <th>valor_recomendado</th>\n",
       "      <th>custo_esperado</th>\n",
       "    </tr>\n",
       "  </thead>\n",
       "  <tbody>\n",
       "    <tr>\n",
       "      <th>0</th>\n",
       "      <td>3941</td>\n",
       "      <td>Parafuso 10x10 10.4</td>\n",
       "      <td>[59, 20, 127, 88, 59, 68, 98, 215, 225, 107, 5...</td>\n",
       "      <td>1.049138</td>\n",
       "      <td>20</td>\n",
       "      <td>225</td>\n",
       "      <td>225</td>\n",
       "      <td>127.675508</td>\n",
       "    </tr>\n",
       "    <tr>\n",
       "      <th>1</th>\n",
       "      <td>3941</td>\n",
       "      <td>Parafuso 10x10 12.4</td>\n",
       "      <td>[254, 98, 107, 68, 176, 78, 215, 68, 195, 234,...</td>\n",
       "      <td>1.191962</td>\n",
       "      <td>68</td>\n",
       "      <td>254</td>\n",
       "      <td>254</td>\n",
       "      <td>122.374801</td>\n",
       "    </tr>\n",
       "    <tr>\n",
       "      <th>2</th>\n",
       "      <td>3941</td>\n",
       "      <td>Parafuso 10x12 10.4</td>\n",
       "      <td>[29, 137, 244, 39, 205, 215, 29, 215, 225, 176...</td>\n",
       "      <td>1.137020</td>\n",
       "      <td>29</td>\n",
       "      <td>254</td>\n",
       "      <td>254</td>\n",
       "      <td>130.398260</td>\n",
       "    </tr>\n",
       "    <tr>\n",
       "      <th>3</th>\n",
       "      <td>3941</td>\n",
       "      <td>Parafuso 10x12 12.4</td>\n",
       "      <td>[137, 29, 127, 10, 78, 117, 195, 117, 186, 68,...</td>\n",
       "      <td>1.003228</td>\n",
       "      <td>10</td>\n",
       "      <td>215</td>\n",
       "      <td>215</td>\n",
       "      <td>96.023294</td>\n",
       "    </tr>\n",
       "    <tr>\n",
       "      <th>4</th>\n",
       "      <td>3941</td>\n",
       "      <td>Parafuso 10x14 10.4</td>\n",
       "      <td>[147, 156, 195, 244, 254, 49, 225, 225, 225, 8...</td>\n",
       "      <td>1.060225</td>\n",
       "      <td>10</td>\n",
       "      <td>254</td>\n",
       "      <td>254</td>\n",
       "      <td>110.095952</td>\n",
       "    </tr>\n",
       "    <tr>\n",
       "      <th>...</th>\n",
       "      <td>...</td>\n",
       "      <td>...</td>\n",
       "      <td>...</td>\n",
       "      <td>...</td>\n",
       "      <td>...</td>\n",
       "      <td>...</td>\n",
       "      <td>...</td>\n",
       "      <td>...</td>\n",
       "    </tr>\n",
       "    <tr>\n",
       "      <th>427</th>\n",
       "      <td>94826</td>\n",
       "      <td>Parafuso 8x16 10.4</td>\n",
       "      <td>[166, 147, 68, 49, 39, 127, 137, 176, 137, 10,...</td>\n",
       "      <td>1.095716</td>\n",
       "      <td>10</td>\n",
       "      <td>234</td>\n",
       "      <td>234</td>\n",
       "      <td>135.923570</td>\n",
       "    </tr>\n",
       "    <tr>\n",
       "      <th>428</th>\n",
       "      <td>94826</td>\n",
       "      <td>Parafuso 8x16 12.4</td>\n",
       "      <td>[49, 78, 20, 59, 254, 205, 186, 225, 186, 88, ...</td>\n",
       "      <td>1.038933</td>\n",
       "      <td>20</td>\n",
       "      <td>254</td>\n",
       "      <td>254</td>\n",
       "      <td>122.548929</td>\n",
       "    </tr>\n",
       "    <tr>\n",
       "      <th>429</th>\n",
       "      <td>94826</td>\n",
       "      <td>Rebite 10</td>\n",
       "      <td>[205, 39, 137, 117, 254, 156, 147, 88, 29, 88,...</td>\n",
       "      <td>0.857407</td>\n",
       "      <td>29</td>\n",
       "      <td>254</td>\n",
       "      <td>254</td>\n",
       "      <td>117.274175</td>\n",
       "    </tr>\n",
       "    <tr>\n",
       "      <th>430</th>\n",
       "      <td>94826</td>\n",
       "      <td>Rebite 12</td>\n",
       "      <td>[195, 176, 225, 10, 244, 147, 234, 78, 117, 22...</td>\n",
       "      <td>1.048368</td>\n",
       "      <td>10</td>\n",
       "      <td>254</td>\n",
       "      <td>254</td>\n",
       "      <td>122.820393</td>\n",
       "    </tr>\n",
       "    <tr>\n",
       "      <th>431</th>\n",
       "      <td>94826</td>\n",
       "      <td>Rebite 14</td>\n",
       "      <td>[88, 98, 107, 117, 234, 176, 254, 234, 127, 24...</td>\n",
       "      <td>0.885816</td>\n",
       "      <td>68</td>\n",
       "      <td>254</td>\n",
       "      <td>254</td>\n",
       "      <td>86.617369</td>\n",
       "    </tr>\n",
       "  </tbody>\n",
       "</table>\n",
       "<p>432 rows × 8 columns</p>\n",
       "</div>"
      ],
      "text/plain": [
       "     phantom                   PN  \\\n",
       "0       3941  Parafuso 10x10 10.4   \n",
       "1       3941  Parafuso 10x10 12.4   \n",
       "2       3941  Parafuso 10x12 10.4   \n",
       "3       3941  Parafuso 10x12 12.4   \n",
       "4       3941  Parafuso 10x14 10.4   \n",
       "..       ...                  ...   \n",
       "427    94826   Parafuso 8x16 10.4   \n",
       "428    94826   Parafuso 8x16 12.4   \n",
       "429    94826            Rebite 10   \n",
       "430    94826            Rebite 12   \n",
       "431    94826            Rebite 14   \n",
       "\n",
       "                                                  Qtde     Price  qtd_min  \\\n",
       "0    [59, 20, 127, 88, 59, 68, 98, 215, 225, 107, 5...  1.049138       20   \n",
       "1    [254, 98, 107, 68, 176, 78, 215, 68, 195, 234,...  1.191962       68   \n",
       "2    [29, 137, 244, 39, 205, 215, 29, 215, 225, 176...  1.137020       29   \n",
       "3    [137, 29, 127, 10, 78, 117, 195, 117, 186, 68,...  1.003228       10   \n",
       "4    [147, 156, 195, 244, 254, 49, 225, 225, 225, 8...  1.060225       10   \n",
       "..                                                 ...       ...      ...   \n",
       "427  [166, 147, 68, 49, 39, 127, 137, 176, 137, 10,...  1.095716       10   \n",
       "428  [49, 78, 20, 59, 254, 205, 186, 225, 186, 88, ...  1.038933       20   \n",
       "429  [205, 39, 137, 117, 254, 156, 147, 88, 29, 88,...  0.857407       29   \n",
       "430  [195, 176, 225, 10, 244, 147, 234, 78, 117, 22...  1.048368       10   \n",
       "431  [88, 98, 107, 117, 234, 176, 254, 234, 127, 24...  0.885816       68   \n",
       "\n",
       "     qtd_max  valor_recomendado  custo_esperado  \n",
       "0        225                225      127.675508  \n",
       "1        254                254      122.374801  \n",
       "2        254                254      130.398260  \n",
       "3        215                215       96.023294  \n",
       "4        254                254      110.095952  \n",
       "..       ...                ...             ...  \n",
       "427      234                234      135.923570  \n",
       "428      254                254      122.548929  \n",
       "429      254                254      117.274175  \n",
       "430      254                254      122.820393  \n",
       "431      254                254       86.617369  \n",
       "\n",
       "[432 rows x 8 columns]"
      ]
     },
     "execution_count": 10,
     "metadata": {},
     "output_type": "execute_result"
    }
   ],
   "source": [
    "df_recomendacoes"
   ]
  }
 ],
 "metadata": {
  "kernelspec": {
   "display_name": "Python 3.12.3 64-bit",
   "language": "python",
   "name": "python3"
  },
  "language_info": {
   "codemirror_mode": {
    "name": "ipython",
    "version": 3
   },
   "file_extension": ".py",
   "mimetype": "text/x-python",
   "name": "python",
   "nbconvert_exporter": "python",
   "pygments_lexer": "ipython3",
   "version": "3.12.3"
  },
  "vscode": {
   "interpreter": {
    "hash": "9dbc1122a99bdd17f3714049351fa17d32d7ba2604aadb455b3b4daf9e50fd17"
   }
  }
 },
 "nbformat": 4,
 "nbformat_minor": 2
}
